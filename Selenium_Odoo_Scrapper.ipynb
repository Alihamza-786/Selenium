{
 "cells": [
  {
   "cell_type": "code",
   "execution_count": 15,
   "id": "b4bab166-33f2-4805-b7a6-ab9e13db07a8",
   "metadata": {},
   "outputs": [
    {
     "name": "stdin",
     "output_type": "stream",
     "text": [
      "Enter start page number:  3301\n",
      "Enter end page number:  3329\n"
     ]
    },
    {
     "name": "stderr",
     "output_type": "stream",
     "text": [
      "There was an error managing chromedriver (error decoding response body); using driver found in the cache\n"
     ]
    },
    {
     "name": "stdout",
     "output_type": "stream",
     "text": [
      "Page 3301 data saved to customer_pages/3301.txt\n",
      "Page 3302 data saved to customer_pages/3302.txt\n",
      "Page 3303 data saved to customer_pages/3303.txt\n",
      "Page 3304 data saved to customer_pages/3304.txt\n",
      "Page 3305 data saved to customer_pages/3305.txt\n",
      "Page 3306 data saved to customer_pages/3306.txt\n",
      "Page 3307 data saved to customer_pages/3307.txt\n",
      "Page 3308 data saved to customer_pages/3308.txt\n",
      "Page 3309 data saved to customer_pages/3309.txt\n",
      "Page 3310 data saved to customer_pages/3310.txt\n",
      "Page 3311 data saved to customer_pages/3311.txt\n",
      "Page 3312 data saved to customer_pages/3312.txt\n",
      "Page 3313 data saved to customer_pages/3313.txt\n",
      "Page 3314 data saved to customer_pages/3314.txt\n",
      "Page 3315 data saved to customer_pages/3315.txt\n",
      "Page 3316 data saved to customer_pages/3316.txt\n",
      "Page 3317 data saved to customer_pages/3317.txt\n",
      "Page 3318 data saved to customer_pages/3318.txt\n",
      "Page 3319 data saved to customer_pages/3319.txt\n",
      "Page 3320 data saved to customer_pages/3320.txt\n",
      "Page 3321 data saved to customer_pages/3321.txt\n",
      "Page 3322 data saved to customer_pages/3322.txt\n",
      "Page 3323 data saved to customer_pages/3323.txt\n",
      "Page 3324 data saved to customer_pages/3324.txt\n",
      "Page 3325 data saved to customer_pages/3325.txt\n",
      "Page 3326 data saved to customer_pages/3326.txt\n",
      "Page 3327 data saved to customer_pages/3327.txt\n",
      "Page 3328 data saved to customer_pages/3328.txt\n",
      "Page 3329 data saved to customer_pages/3329.txt\n"
     ]
    }
   ],
   "source": [
    "from selenium import webdriver\n",
    "from selenium.webdriver.common.by import By\n",
    "from selenium.common.exceptions import NoSuchElementException, TimeoutException\n",
    "from selenium.webdriver.support.ui import WebDriverWait\n",
    "from selenium.webdriver.support import expected_conditions as EC\n",
    "import os\n",
    "\n",
    "# Set your desired start and end pages here\n",
    "start_page = int(input(\"Enter start page number: \"))\n",
    "end_page = int(input(\"Enter end page number: \"))\n",
    "\n",
    "# Create folder to store text files\n",
    "output_dir = \"customer_pages2\"\n",
    "os.makedirs(output_dir, exist_ok=True)\n",
    "\n",
    "driver = webdriver.Chrome()\n",
    "\n",
    "for page_num in range(start_page, end_page + 1):\n",
    "    url = f\"https://www.odoo.com/fr_FR/customers/page/{page_num}\"\n",
    "    driver.get(url)\n",
    "\n",
    "    try:\n",
    "        WebDriverWait(driver, 10).until(\n",
    "            EC.presence_of_element_located((By.CSS_SELECTOR, \"div.card.h-100.text-decoration-none\"))\n",
    "        )\n",
    "    except TimeoutException:\n",
    "        print(f\"No customer cards found on page {page_num}. Stopping.\")\n",
    "        break\n",
    "\n",
    "    customers = []\n",
    "    cards = driver.find_elements(By.CSS_SELECTOR, \"div.card.h-100.text-decoration-none\")\n",
    "\n",
    "    for card in cards:\n",
    "        try:\n",
    "            name = card.find_element(By.CSS_SELECTOR, \"h5.card-title\").text.strip()\n",
    "\n",
    "            try:\n",
    "                desc_raw = card.find_element(By.CSS_SELECTOR, \"small.o_wcrm_short_description\").text\n",
    "                desc_lines = [line.strip() for line in desc_raw.splitlines() if line.strip()]\n",
    "                desc = \" \".join(desc_lines)\n",
    "            except NoSuchElementException:\n",
    "                desc = \"\"\n",
    "\n",
    "            try:\n",
    "                category = card.find_element(By.CSS_SELECTOR, \"a.badge\").text.strip()\n",
    "            except NoSuchElementException:\n",
    "                category = \"\"\n",
    "\n",
    "            customers.append((name, desc, category))\n",
    "        except Exception:\n",
    "            continue\n",
    "\n",
    "    # Save to file in the created folder\n",
    "    filename = os.path.join(output_dir, f\"{page_num}.txt\")\n",
    "    with open(filename, \"w\", encoding=\"utf-8\") as f:\n",
    "        for i, (name, desc, category) in enumerate(customers, start=1):\n",
    "            f.write(f\"{i}. {name}\\n\")\n",
    "            if desc:\n",
    "                f.write(f\"Description: {desc}\\n\")\n",
    "            if category:\n",
    "                f.write(f\"Category: {category}\\n\")\n",
    "            f.write(\"\\n\")\n",
    "\n",
    "    print(f\"Page {page_num} data saved to {filename}\")\n",
    "\n",
    "driver.quit()"
   ]
  },
  {
   "cell_type": "code",
   "execution_count": null,
   "id": "5accde15-c302-49f3-a333-dc3e46af1a25",
   "metadata": {},
   "outputs": [],
   "source": []
  }
 ],
 "metadata": {
  "kernelspec": {
   "display_name": "Python 3 (ipykernel)",
   "language": "python",
   "name": "python3"
  },
  "language_info": {
   "codemirror_mode": {
    "name": "ipython",
    "version": 3
   },
   "file_extension": ".py",
   "mimetype": "text/x-python",
   "name": "python",
   "nbconvert_exporter": "python",
   "pygments_lexer": "ipython3",
   "version": "3.12.3"
  }
 },
 "nbformat": 4,
 "nbformat_minor": 5
}
