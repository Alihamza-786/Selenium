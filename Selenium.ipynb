{
 "cells": [
  {
   "cell_type": "markdown",
   "id": "cc05d493-f035-4f84-b4ba-9ff6fb9f4f34",
   "metadata": {},
   "source": [
    "\n",
    "## Requirements\n",
    "- Selenium version: 4.30.0\n",
    "- Python version: 3.12.0\n",
    "\n",
    "Also download the extension: \n",
    "\"SELECTORSHUB, XPath & Selectors Plugin\""
   ]
  },
  {
   "cell_type": "markdown",
   "id": "49a7d870-b005-45a9-a713-6eec9b21bf09",
   "metadata": {},
   "source": [
    "# Selenium?\n",
    "Selenium automates browsers. That's it!"
   ]
  },
  {
   "cell_type": "markdown",
   "id": "65e58a5b-176a-4e74-8076-95d3cdde1e8f",
   "metadata": {},
   "source": [
    "## Topics:\n",
    "We'll Handle:\n",
    "\n",
    "- [Checkboxes](#Handling-CheckBoxes)\n",
    "- [Dropdowns](#Handling-Dropdowns)\n",
    "- [Broken Links](#Broken-Links)\n",
    "- [Broken images](#Broken-Images)\n",
    "- [Multiple Tabs/Windows](#Multiple-Tabs/Windows)\n",
    "- [Web Tables](#Handling-Web-Tables)\n",
    "- [Iframes](#Handling-Iframe)\n",
    "- [Nested Frames](#Nested-Frames)\n",
    "- [Javascript Alerts](#Handling-Javascript-Alerts)\n",
    "- [Date Picker](#Date-Picker)\n",
    "- [Mouse Hover Dropdown](#Handling-Mouse-Hover-Dropdown)\n",
    "- [Drag And Drop](#Handling-Drag-and-Drop)\n",
    "- [Horizontal Slider](#Handling-Slider)"
   ]
  },
  {
   "cell_type": "code",
   "execution_count": 9,
   "id": "597c5d5c-5dae-4646-aa82-3bc512934c2d",
   "metadata": {},
   "outputs": [
    {
     "name": "stdout",
     "output_type": "stream",
     "text": [
      "Selenium version: 4.30.0\n",
      "Python version: 3.12.0 | packaged by Anaconda, Inc. | (main, Oct  2 2023, 17:20:38) [MSC v.1916 64 bit (AMD64)]\n"
     ]
    }
   ],
   "source": [
    "import selenium\n",
    "import sys\n",
    "\n",
    "# Print Selenium version\n",
    "print(\"Selenium version:\", selenium.__version__)\n",
    "\n",
    "# Print Python version\n",
    "print(\"Python version:\", sys.version)"
   ]
  },
  {
   "cell_type": "markdown",
   "id": "e81a1c51-99b8-4176-82fd-683e9800f8ec",
   "metadata": {},
   "source": [
    "# Selenium Web Driver\n",
    "It is used to filling out forms, extracting data, automation, and running tests."
   ]
  },
  {
   "cell_type": "code",
   "execution_count": 38,
   "id": "45e50eeb-2280-44ff-95ac-ac22227fda12",
   "metadata": {},
   "outputs": [
    {
     "name": "stdout",
     "output_type": "stream",
     "text": [
      "Swag Labs\n"
     ]
    }
   ],
   "source": [
    "from selenium import webdriver\n",
    "from selenium.webdriver.common.by import By\n",
    "driver = webdriver.Chrome()\n",
    "driver.get(\"https://www.saucedemo.com/\")\n",
    "\n",
    "\n",
    "#driver.maximize_window() #Maximize browser screen\n",
    "title = driver.title\n",
    "print(title)"
   ]
  },
  {
   "cell_type": "code",
   "execution_count": 40,
   "id": "60abcb07-c027-4391-8ef0-fd7bcd6b24d9",
   "metadata": {},
   "outputs": [
    {
     "name": "stdout",
     "output_type": "stream",
     "text": [
      "Pass test successfully\n"
     ]
    }
   ],
   "source": [
    "assert \"Swag Labs\" in title\n",
    "print(\"Pass test successfully\")"
   ]
  },
  {
   "cell_type": "markdown",
   "id": "6fe7441b-9ba3-4ef8-8e4a-0caae770cb18",
   "metadata": {},
   "source": [
    "## Elements\n",
    "We have elements in html like:\n",
    "- Text Fields\n",
    "- Checkboxes\n",
    "- Links\n",
    "\n",
    "To find these elements we use locators\n",
    "## Locators in selenium\n",
    "To locate a specific element of a webpage we use locator\n",
    "- ID\n",
    "- Name\n",
    "- Class Name\n",
    "- CSS Selector\n",
    "- Xpath\n",
    "- Link Text\n",
    "- Partial Link Text\n",
    "- TagName\n",
    "\n",
    "These are the locators to find element\n",
    "\n",
    "## Interaction\n",
    "__Text Field__ : Typying something\n",
    "\n",
    "__Checkbox__ : Checking the box\n",
    "\n",
    "__Link__ : Clicking on a link\n",
    "\n",
    "## Assertion\n",
    "Verify the functionality. e.g there should be a button with a text \"Login\""
   ]
  },
  {
   "cell_type": "code",
   "execution_count": 43,
   "id": "0b7d3781-81df-4126-8c19-1d859979c01e",
   "metadata": {},
   "outputs": [
    {
     "name": "stdout",
     "output_type": "stream",
     "text": [
      "Got it\n"
     ]
    }
   ],
   "source": [
    "credentials = driver.find_element(By.ID, \"login_credentials\")\n",
    "print(\"Got it\")"
   ]
  },
  {
   "cell_type": "markdown",
   "id": "82b71963-e54a-4fbf-92c7-a4e9af79c838",
   "metadata": {},
   "source": [
    "## Automate Login Functionalities"
   ]
  },
  {
   "cell_type": "code",
   "execution_count": 5,
   "id": "255e9a38-b56f-49f0-96be-af0f60290544",
   "metadata": {},
   "outputs": [],
   "source": [
    "from selenium import webdriver\n",
    "from selenium.webdriver.common.by import By\n",
    "driver = webdriver.Chrome()\n",
    "\n",
    "driver.maximize_window()\n",
    "username = \"standard_user\"\n",
    "password = \"secret_sauce\"\n",
    "login_url = \"http://www.saucedemo.com\"\n",
    "driver.get(login_url)\n",
    "username_field = driver.find_element(By.ID, \"user-name\") #username_field contain web element's object\n",
    "password_field = driver.find_element(By.ID, \"password\")\n",
    "\n",
    "username_field.send_keys(username)\n",
    "password_field.send_keys(password)\n",
    "\n",
    "login_button = driver.find_element(By.ID, \"login-button\")\n",
    "\n",
    "assert not login_button.get_attribute(\"disabled\") #we ensure the button is not disabled\n",
    "login_button.click()\n",
    "\n",
    "success_element = driver.find_element(By.CSS_SELECTOR, \".title\")\n",
    "assert success_element.text == \"Products\""
   ]
  },
  {
   "cell_type": "markdown",
   "id": "7fb4482a-2e9c-40ba-813f-abffa35f94cf",
   "metadata": {},
   "source": [
    "## Browser Commands"
   ]
  },
  {
   "cell_type": "code",
   "execution_count": 17,
   "id": "5ee7f47f-8257-4433-91c4-79c5a121919f",
   "metadata": {},
   "outputs": [],
   "source": [
    "import time\n",
    "from selenium import webdriver\n",
    "from selenium.webdriver.common.by import By\n",
    "driver = webdriver.Chrome()\n",
    "\n",
    "driver.get('https://opensource-demo.orangehrmlive.com/')\n",
    "driver.maximize_window()\n",
    "time.sleep(5)\n",
    "driver.find_element(By.CSS_SELECTOR, \".oxd-text.oxd-text--p.orangehrm-login-forgot-header\").click()\n",
    "time.sleep(5)\n",
    "driver.back()\n",
    "time.sleep(5)\n",
    "driver.forward()\n",
    "time.sleep(5)\n",
    "driver.refresh()\n",
    "driver.close()"
   ]
  },
  {
   "cell_type": "markdown",
   "id": "9a419781-2d0d-4f4b-92be-55be919466d4",
   "metadata": {},
   "source": [
    "## View Port"
   ]
  },
  {
   "cell_type": "code",
   "execution_count": 22,
   "id": "5305a4c8-8f33-4dc5-8b1d-c052b6846a17",
   "metadata": {},
   "outputs": [],
   "source": [
    "import time\n",
    "from selenium import webdriver\n",
    "driver = webdriver.Chrome()\n",
    "driver.get(\"https://www.google.com\")\n",
    "driver.set_window_size(786, 1024) # width, height\n",
    "time.sleep(5)\n",
    "driver.close()"
   ]
  },
  {
   "cell_type": "code",
   "execution_count": 23,
   "id": "3d6b34cc-1829-4fd4-91b3-04d3388e76d3",
   "metadata": {},
   "outputs": [],
   "source": [
    "import time\n",
    "from selenium import webdriver\n",
    "viewports = [(1024,786), (768,1024), (375, 667), (414, 896)]\n",
    "\n",
    "driver = webdriver.Chrome()\n",
    "driver.get(\"https://www.google.com\")\n",
    "\n",
    "try:\n",
    "    for width, height in viewports:\n",
    "        driver.set_window_size(width, height)\n",
    "        time.sleep(4)\n",
    "\n",
    "finally:\n",
    "    driver.close()"
   ]
  },
  {
   "cell_type": "markdown",
   "id": "e4c78420-dde1-4643-9abf-05452d128ede",
   "metadata": {},
   "source": [
    "## Handling CheckBoxes"
   ]
  },
  {
   "cell_type": "code",
   "execution_count": 32,
   "id": "84368f84-b5ee-46f9-bfb6-4b70cf82a729",
   "metadata": {},
   "outputs": [],
   "source": [
    "from selenium import webdriver\n",
    "from selenium.webdriver.common.by import By\n",
    "\n",
    "browser = webdriver.Chrome()\n",
    "browser.get(\"https://fs2.formsite.com/meherpavan/form2/index.html?1537702596407\")\n",
    "browser.maximize_window()\n",
    "time.sleep(3)\n",
    "browser.execute_script(\"window.scrollTo(0, document.body.scrollHeight);\") #scroll down\n",
    "time.sleep(3)\n",
    "browser.find_element(By.XPATH, \"(//label[normalize-space()='Sunday'])[1]\").click()\n",
    "time.sleep(3)\n",
    "browser.find_element(By.XPATH, \"(//label[normalize-space()='Sunday'])[1]\").click()\n",
    "time.sleep(3)\n",
    "browser.close()"
   ]
  },
  {
   "cell_type": "code",
   "execution_count": 34,
   "id": "81f55d06-0024-4b02-999a-d2b8e9db957d",
   "metadata": {},
   "outputs": [],
   "source": [
    "from selenium import webdriver\n",
    "from selenium.webdriver.common.by import By\n",
    "\n",
    "browser = webdriver.Chrome()\n",
    "browser.get(\"https://fs2.formsite.com/meherpavan/form2/index.html?1537702596407\")\n",
    "browser.maximize_window()\n",
    "time.sleep(2)\n",
    "browser.execute_script(\"window.scrollTo(0, document.body.scrollHeight);\") #scroll down\n",
    "time.sleep(2)\n",
    "browser.find_element(By.XPATH, \"(//label[normalize-space()='Sunday'])[1]\").click()\n",
    "time.sleep(1)\n",
    "browser.find_element(By.XPATH, \"(//label[normalize-space()='Monday'])[1]\").click()\n",
    "time.sleep(1)\n",
    "browser.find_element(By.XPATH, \"(//label[normalize-space()='Tuesday'])[1]\").click()\n",
    "time.sleep(1)\n",
    "browser.find_element(By.XPATH, \"(//label[normalize-space()='Wednesday'])[1]\").click()\n",
    "time.sleep(1)\n",
    "browser.find_element(By.XPATH, \"(//label[normalize-space()='Thursday'])[1]\").click()\n",
    "time.sleep(1)\n",
    "browser.find_element(By.XPATH, \"(//label[normalize-space()='Friday'])[1]\").click()\n",
    "time.sleep(1)\n",
    "browser.find_element(By.XPATH, \"(//label[normalize-space()='Saturday'])[1]\").click()\n",
    "time.sleep(2)\n",
    "browser.close()"
   ]
  },
  {
   "cell_type": "code",
   "execution_count": 43,
   "id": "c34bfa47-4f53-4f1b-8e0c-3725735e56d3",
   "metadata": {},
   "outputs": [
    {
     "name": "stdout",
     "output_type": "stream",
     "text": [
      "Check box count verified\n"
     ]
    }
   ],
   "source": [
    "from selenium import webdriver\n",
    "from selenium.webdriver.common.by import By\n",
    "from selenium.webdriver.common.keys import Keys\n",
    "browser = webdriver.Chrome()\n",
    "browser.get(\"https://fs2.formsite.com/meherpavan/form2/index.html?1537702596407\")\n",
    "browser.maximize_window()\n",
    "time.sleep(3)\n",
    "browser.execute_script(\"window.scrollTo(0, document.body.scrollHeight);\") #scroll down\n",
    "checkboxes = browser.find_elements(By.XPATH, \"//input[@type='checkbox']\")\n",
    "for checkbox in checkboxes:\n",
    "    checkbox.send_keys(Keys.SPACE) #You also check by pressing space\n",
    "checked_count=0\n",
    "for checkbox in checkboxes:\n",
    "    if checkbox.is_selected():\n",
    "        checked_count +=1\n",
    "\n",
    "expected_checked_count=7\n",
    "if checked_count == expected_checked_count:\n",
    "    print(\"Check box count verified\")\n",
    "else:\n",
    "    print(\"Check box count mismatch\")\n",
    "time.sleep(2)\n",
    "browser.close()"
   ]
  },
  {
   "cell_type": "markdown",
   "id": "1b4a3be3-4cc9-4cfc-a838-f31780dcd3d6",
   "metadata": {},
   "source": [
    "## Handling Dropdowns"
   ]
  },
  {
   "cell_type": "code",
   "execution_count": 47,
   "id": "587c42cc-4490-4245-97d6-a1b0c8a5b193",
   "metadata": {},
   "outputs": [],
   "source": [
    "import time\n",
    "from selenium import webdriver\n",
    "from selenium.webdriver.common.by import By\n",
    "from selenium.webdriver.support.select import Select\n",
    "driver = webdriver.Chrome()\n",
    "driver.maximize_window()\n",
    "login_url = \"https://the-internet.herokuapp.com/dropdown\"\n",
    "driver.get(login_url)\n",
    "\n",
    "dropdown_element = driver.find_element(By.ID, \"dropdown\")\n",
    "select = Select(dropdown_element)\n",
    "\n",
    "#1. Select the value by visible text\n",
    "#2. Select the value by index\n",
    "#2. Select the option by using a value\n",
    "\n",
    "\n",
    "#select.select_by_visible_text(\"Option 2\")\n",
    "#select.select_by_index(1)\n",
    "select.select_by_value(\"2\")\n",
    "time.sleep(2)\n",
    "driver.close()"
   ]
  },
  {
   "cell_type": "code",
   "execution_count": 53,
   "id": "f06f7353-c380-4359-b95e-cb7d6cac149c",
   "metadata": {},
   "outputs": [
    {
     "name": "stdout",
     "output_type": "stream",
     "text": [
      "Test passed, Count is correct\n"
     ]
    }
   ],
   "source": [
    "#Count drop down values\n",
    "import time\n",
    "from selenium import webdriver\n",
    "from selenium.webdriver.common.by import By\n",
    "from selenium.webdriver.support.select import Select\n",
    "driver = webdriver.Chrome()\n",
    "driver.maximize_window()\n",
    "login_url = \"https://the-internet.herokuapp.com/dropdown\"\n",
    "driver.get(login_url)\n",
    "\n",
    "dropdown_element = driver.find_element(By.ID, \"dropdown\")\n",
    "select = Select(dropdown_element)\n",
    "option_count = len(select.options)\n",
    "\n",
    "expected_count = 3\n",
    "\n",
    "if option_count == expected_count:\n",
    "    print(\"Test passed, Count is correct\")\n",
    "else:\n",
    "    print(\"OOPS, Test Failed, Count is not correct\")\n",
    "driver.close()"
   ]
  },
  {
   "cell_type": "code",
   "execution_count": 57,
   "id": "b7e4fffc-8e1b-40d1-8ca8-fec4366e1503",
   "metadata": {},
   "outputs": [
    {
     "name": "stdout",
     "output_type": "stream",
     "text": [
      "Target Value not found\n",
      "Target Value not found\n",
      "Selected option is 'Option 2'\n"
     ]
    }
   ],
   "source": [
    "#Select particular value from drop down\n",
    "import time\n",
    "from selenium import webdriver\n",
    "from selenium.webdriver.common.by import By\n",
    "from selenium.webdriver.support.select import Select\n",
    "driver = webdriver.Chrome()\n",
    "driver.maximize_window()\n",
    "login_url = \"https://the-internet.herokuapp.com/dropdown\"\n",
    "driver.get(login_url)\n",
    "\n",
    "dropdown_element = driver.find_element(By.ID, \"dropdown\")\n",
    "select = Select(dropdown_element)\n",
    "target_value = \"Option 2\"\n",
    "for option in select.options:\n",
    "    if option.text== target_value:\n",
    "        option.click()\n",
    "        print(f\"Selected option is '{target_value}'\")\n",
    "        break\n",
    "    else:\n",
    "        print(\"Target Value not found\")\n",
    "driver.close()"
   ]
  },
  {
   "cell_type": "markdown",
   "id": "0ae57c6d-59b8-4f43-a3e6-a4e5a1990555",
   "metadata": {},
   "source": [
    "## Broken Links"
   ]
  },
  {
   "cell_type": "code",
   "execution_count": 3,
   "id": "564da6ae-a606-4d4e-8535-0f0f45973e20",
   "metadata": {},
   "outputs": [
    {
     "name": "stdout",
     "output_type": "stream",
     "text": [
      "Total count of links on the page: 113\n",
      "Broken Link: https://forum.jquery.com/using-jquery-ui/ (Status Code: 404)\n",
      "Broken Link: https://forum.jquery.com/developing-jquery-ui/ (Status Code: 404)\n"
     ]
    }
   ],
   "source": [
    "import requests\n",
    "from selenium import webdriver\n",
    "from selenium.webdriver.common.by import By\n",
    "\n",
    "url = \"https://jqueryui.com/\"\n",
    "driver = webdriver.Chrome()\n",
    "driver.maximize_window()\n",
    "driver.get(url)\n",
    "\n",
    "all_links = driver.find_elements(By.TAG_NAME, 'a')\n",
    "print(f\"Total count of links on the page: {len(all_links)}\")\n",
    "\n",
    "for link in all_links[:50]: # process only first 50 links\n",
    "    href = link.get_attribute('href')\n",
    "    response = requests.get(href)\n",
    "\n",
    "    if response.status_code >=400:\n",
    "        print(f\"Broken Link: {href} (Status Code: {response.status_code})\")\n",
    "driver.close()"
   ]
  },
  {
   "cell_type": "markdown",
   "id": "a7919ed7-f7aa-40f2-8385-adda91c3ace9",
   "metadata": {},
   "source": [
    "## Broken Images"
   ]
  },
  {
   "cell_type": "code",
   "execution_count": 8,
   "id": "0ff7851e-ee06-45f9-8e41-f8702a645934",
   "metadata": {},
   "outputs": [
    {
     "name": "stdout",
     "output_type": "stream",
     "text": [
      "Broken image found\n",
      "Broken image found\n",
      "List of broken images:\n",
      "https://the-internet.herokuapp.com/asdf.jpg\n",
      "https://the-internet.herokuapp.com/hjkl.jpg\n"
     ]
    }
   ],
   "source": [
    "import requests\n",
    "from selenium import webdriver\n",
    "from selenium.webdriver.common.by import By\n",
    "\n",
    "browser = webdriver.Chrome()\n",
    "browser.get(\"https://the-internet.herokuapp.com/broken_images\")\n",
    "browser.maximize_window()\n",
    "\n",
    "images = browser.find_elements(By.TAG_NAME, \"img\")\n",
    "broken_images = []\n",
    "\n",
    "for image in images:\n",
    "    src = image.get_attribute(\"src\")\n",
    "    if src:\n",
    "        response = requests.get(src)\n",
    "        if response.status_code !=200:\n",
    "            broken_images.append(src)\n",
    "            print(f\"Broken image found\")\n",
    "\n",
    "if broken_images:\n",
    "    print(\"List of broken images:\")\n",
    "    for broken_image in broken_images:\n",
    "        print(broken_image)\n",
    "else:\n",
    "    print(\"No broken images found\")\n",
    "browser.close()"
   ]
  },
  {
   "cell_type": "markdown",
   "id": "ca401033-7267-4af4-891d-250ad46baceb",
   "metadata": {},
   "source": [
    "## Multiple Tabs/Windows"
   ]
  },
  {
   "cell_type": "code",
   "execution_count": 21,
   "id": "9adc8553-5370-4493-9d13-5b6d7f370855",
   "metadata": {},
   "outputs": [
    {
     "name": "stdout",
     "output_type": "stream",
     "text": [
      "2\n",
      "['65D75F8A4C32D27F7A07F1CB73FEE46C', 'B29B9513AD125F002946A841A2223800']\n",
      "B29B9513AD125F002946A841A2223800\n"
     ]
    }
   ],
   "source": [
    "import requests\n",
    "from selenium import webdriver\n",
    "from selenium.webdriver.common.by import By\n",
    "browser = webdriver.Chrome()\n",
    "browser.maximize_window()\n",
    "\n",
    "browser.get('https://www.selenium.dev/')\n",
    "browser.switch_to.new_window()\n",
    "browser.get('https://playwright.dev/')\n",
    "\n",
    "number_of_tabs = len(browser.window_handles)\n",
    "print(number_of_tabs)\n",
    "\n",
    "tabs_value = browser.window_handles\n",
    "print(tabs_value)\n",
    "\n",
    "current_tab_value = browser.current_window_handle\n",
    "print(current_tab_value)\n",
    "\n",
    "browser.find_element(By.CSS_SELECTOR, \".getStarted_Sjon\").click()\n",
    "FirstTab = browser.window_handles[0]\n",
    "if current_tab_value != FirstTab:\n",
    "    browser.switch_to.window(FirstTab)\n",
    "browser.find_element(By.XPATH, \"//span[normalize-space()='Downloads']\").click()\n"
   ]
  },
  {
   "cell_type": "markdown",
   "id": "6ca3e67b-41f7-4014-8af4-599d46688673",
   "metadata": {},
   "source": [
    "## Handling Web Tables"
   ]
  },
  {
   "cell_type": "code",
   "execution_count": 26,
   "id": "e3ce4c14-0342-42e5-8e23-f66d4a4ba434",
   "metadata": {},
   "outputs": [
    {
     "name": "stdout",
     "output_type": "stream",
     "text": [
      "197\n",
      "Found Value 'Australia' \n"
     ]
    }
   ],
   "source": [
    "from selenium import webdriver\n",
    "from selenium.webdriver.common.by import By\n",
    "browser = webdriver.Chrome()\n",
    "browser.get(\"https://cosmocode.io/automation-practice-webtable/\")\n",
    "browser.maximize_window()\n",
    "browser.execute_script(\"window.scrollTo(0,700)\")\n",
    "\n",
    "table = browser.find_element(By.ID, \"countries\")\n",
    "rows = table.find_elements(By.TAG_NAME, \"tr\")\n",
    "row_count = len(rows)\n",
    "print(row_count)\n",
    "\n",
    "target_value = \"Australia\"\n",
    "found = False\n",
    "for row in rows:\n",
    "    cells = row.find_elements(By.TAG_NAME, \"td\") #table data\n",
    "    for cell in cells:\n",
    "        if target_value in cell.text:\n",
    "            print(f\"Found Value '{target_value}' \")\n",
    "            found = True\n",
    "            break\n",
    "    if found:\n",
    "        break\n",
    "if not found:\n",
    "    print(f\"Target value '{target_value}' not found\")\n",
    "browser.close()"
   ]
  },
  {
   "cell_type": "markdown",
   "id": "ed6f6b60-317f-4489-8caa-39cd22e1da33",
   "metadata": {},
   "source": [
    "## Handling Iframe\n",
    "iframe have its own html, one is of web html and anotehr is of iframe html, html within an html, means nested html"
   ]
  },
  {
   "cell_type": "code",
   "execution_count": 35,
   "id": "3ddabe5b-5de4-4689-9d60-f5a604493207",
   "metadata": {},
   "outputs": [],
   "source": [
    "import time\n",
    "from selenium import webdriver\n",
    "from selenium.webdriver.common.by import By\n",
    "browser = webdriver.Chrome()\n",
    "browser.maximize_window()\n",
    "browser.get(\"https://the-internet.herokuapp.com/iframe\")\n",
    "\n",
    "iframe = browser.find_element(By.ID, \"mce_0_ifr\") #iframe have its own html, one is of web html and anotehr is of iframe html, means nested html\n",
    "browser.switch_to.frame(iframe)\n",
    "\n",
    "Text_Editor = browser.find_element(By.ID, \"tinymce\")\n",
    "time.sleep(2)\n",
    "#Text_Editor.clear()\n",
    "#Text_Editor.send_keys(\"This is Selenium with python Iframe\")\n",
    "#time.sleep(2)\n",
    "\n",
    "browser.switch_to.default_content() #exit iframe and switch to the main html\n",
    "selenium_link = browser.find_element(By.XPATH, \"//a[normalize-space()='Elemental Selenium']\")\n",
    "selenium_link.click()\n",
    "browser.close()"
   ]
  },
  {
   "cell_type": "markdown",
   "id": "ed672fc3-da91-4cf2-8dd4-3e69bf22e306",
   "metadata": {},
   "source": [
    "## Nested Frames"
   ]
  },
  {
   "cell_type": "code",
   "execution_count": 38,
   "id": "fc8aed40-333c-4583-92b5-1fd78f559dcb",
   "metadata": {},
   "outputs": [
    {
     "name": "stdout",
     "output_type": "stream",
     "text": [
      "Content in middle frame:  MIDDLE\n",
      "Content in bottom frame:  BOTTOM\n"
     ]
    }
   ],
   "source": [
    "import time\n",
    "from selenium import webdriver\n",
    "from selenium.webdriver.common.by import By\n",
    "browser = webdriver.Chrome()\n",
    "browser.maximize_window()\n",
    "browser.get(\"https://the-internet.herokuapp.com/nested_frames\")\n",
    "\n",
    "#Switching to top frame\n",
    "browser.switch_to.frame(\"frame-top\")\n",
    "\n",
    "#Switching to Middle frame\n",
    "browser.switch_to.frame(\"frame-middle\")\n",
    "\n",
    "content = browser.find_element(By.ID, \"content\").text\n",
    "print(\"Content in middle frame: \", content)\n",
    "\n",
    "#Switch to default content\n",
    "browser.switch_to.default_content()\n",
    "\n",
    "#Switch to bottom frame\n",
    "browser.switch_to.frame(\"frame-bottom\")\n",
    "\n",
    "content = browser.find_element(By.TAG_NAME, \"body\").text\n",
    "print(\"Content in bottom frame: \", content)\n",
    "browser.close()"
   ]
  },
  {
   "cell_type": "markdown",
   "id": "9d344466-1ee2-47be-a990-333ded941d75",
   "metadata": {},
   "source": [
    "## Handling Javascript Alerts"
   ]
  },
  {
   "cell_type": "code",
   "execution_count": 51,
   "id": "b4d0cb3d-fb96-4372-97ec-e84100ab7ca0",
   "metadata": {},
   "outputs": [
    {
     "name": "stdout",
     "output_type": "stream",
     "text": [
      "I am a JS Alert\n",
      "You successfully clicked an alert\n"
     ]
    }
   ],
   "source": [
    "import time\n",
    "from selenium import webdriver\n",
    "from selenium.webdriver.common.by import By\n",
    "browser = webdriver.Chrome()\n",
    "browser.maximize_window()\n",
    "browser.get(\"http://the-internet.herokuapp.com/javascript_alerts\")\n",
    "\n",
    "AlertButton = browser.find_element(By.XPATH, \"//button[normalize-space()='Click for JS Alert']\")\n",
    "AlertButton.click()\n",
    "\n",
    "alert = browser.switch_to.alert\n",
    "alert_text = alert.text\n",
    "\n",
    "print(alert_text)\n",
    "time.sleep(3)\n",
    "alert.accept() #accept the alert, means click on ok button when alert appears\n",
    "time.sleep(3)\n",
    "print(browser.find_element(By.ID,\"result\").text)\n",
    "browser.close()"
   ]
  },
  {
   "cell_type": "code",
   "execution_count": 54,
   "id": "0212f830-4555-4228-a5ee-0472a8c76c4e",
   "metadata": {},
   "outputs": [
    {
     "name": "stdout",
     "output_type": "stream",
     "text": [
      "I am a JS Confirm\n",
      "You clicked: Cancel\n"
     ]
    }
   ],
   "source": [
    "#Cancel Alert\n",
    "import time\n",
    "from selenium import webdriver\n",
    "from selenium.webdriver.common.by import By\n",
    "browser = webdriver.Chrome()\n",
    "browser.maximize_window()\n",
    "browser.get(\"http://the-internet.herokuapp.com/javascript_alerts\")\n",
    "\n",
    "AlertButton = browser.find_element(By.XPATH, \"//button[normalize-space()='Click for JS Confirm']\")\n",
    "AlertButton.click()\n",
    "\n",
    "alert = browser.switch_to.alert\n",
    "alert_text = alert.text\n",
    "\n",
    "print(alert_text)\n",
    "time.sleep(3)\n",
    "alert.dismiss() #cancel alert, means click on the cancel button not on ok button\n",
    "time.sleep(3)\n",
    "print(browser.find_element(By.ID,\"result\").text)\n",
    "browser.close()"
   ]
  },
  {
   "cell_type": "code",
   "execution_count": 58,
   "id": "6848f676-58db-4abd-be1b-f49a34d5365a",
   "metadata": {},
   "outputs": [
    {
     "name": "stdout",
     "output_type": "stream",
     "text": [
      "I am a JS prompt\n",
      "You entered: This is Selenium with Python\n"
     ]
    }
   ],
   "source": [
    "#input text in alert\n",
    "import time\n",
    "from selenium import webdriver\n",
    "from selenium.webdriver.common.by import By\n",
    "browser = webdriver.Chrome()\n",
    "browser.maximize_window()\n",
    "browser.get(\"http://the-internet.herokuapp.com/javascript_alerts\")\n",
    "\n",
    "AlertButton = browser.find_element(By.XPATH, \"//button[normalize-space()='Click for JS Prompt']\")\n",
    "AlertButton.click()\n",
    "\n",
    "alert = browser.switch_to.alert\n",
    "alert_text = alert.text\n",
    "\n",
    "print(alert_text)\n",
    "time.sleep(1)\n",
    "alert.send_keys(\"This is Selenium with Python\") #input text in alert\n",
    "time.sleep(3)\n",
    "alert.accept()\n",
    "time.sleep(3)\n",
    "print(browser.find_element(By.ID,\"result\").text)\n",
    "browser.close()"
   ]
  },
  {
   "cell_type": "markdown",
   "id": "f160e6fd-9ba3-420c-81bd-6ec1f69c1c66",
   "metadata": {},
   "source": [
    "## Date Picker"
   ]
  },
  {
   "cell_type": "code",
   "execution_count": 8,
   "id": "883f2f9b-8342-43c2-b7a1-0262f526b2ac",
   "metadata": {},
   "outputs": [],
   "source": [
    "import time\n",
    "from datetime import datetime, timedelta\n",
    "from selenium import webdriver\n",
    "from selenium.webdriver.common.by import By\n",
    "from selenium.webdriver.common.keys import Keys\n",
    "\n",
    "browser = webdriver.Chrome()\n",
    "browser.maximize_window()\n",
    "browser.get(\"https://www.globalsqa.com/demo-site/datepicker/\")\n",
    "browser.find_element(By.XPATH, \"//div[@class='single_tab_div resp-tab-content resp-tab-content-active']//a[@class='close_img']\").click()\n",
    "frameLo = browser.find_element(By.XPATH, \"//iframe[@class='demo-frame lazyloaded']\")\n",
    "browser.switch_to.frame(frameLo)\n",
    "time.sleep(3)\n",
    "browser.find_element(By.CSS_SELECTOR, \"#datepicker\").click() #Click on it, so that calender will open\n",
    "current_date = datetime.now()\n",
    "next_date = current_date  + timedelta(days=0)\n",
    "\n",
    "formatted_date = next_date.strftime(\"%m/%d/%y\")# MM/DD/Y\n",
    "browser.find_element(By.CSS_SELECTOR, \"#datepicker\").send_keys(formatted_date + Keys.TAB) #We press tab after writing the date, so that it will choose that date\n",
    "time.sleep(3)\n",
    "browser.quit()"
   ]
  },
  {
   "cell_type": "markdown",
   "id": "3411f7c4-beee-4ca1-9ec8-70da4fa0c170",
   "metadata": {},
   "source": [
    "## Dropdown Date Picker"
   ]
  },
  {
   "cell_type": "code",
   "execution_count": 24,
   "id": "329111c6-ae41-4908-a479-2a3acf47cf38",
   "metadata": {},
   "outputs": [
    {
     "name": "stdout",
     "output_type": "stream",
     "text": [
      "2025-04-06 19:15:25.749174\n",
      "2025-04-07 17:40:38.000118\n",
      "7\n"
     ]
    }
   ],
   "source": [
    "import time\n",
    "from datetime import datetime, timedelta\n",
    "from selenium import webdriver\n",
    "from selenium.webdriver.common.by import By\n",
    "from selenium.webdriver.common.keys import Keys\n",
    "from selenium.webdriver.support.ui import Select\n",
    "\n",
    "\n",
    "browser = webdriver.Chrome()\n",
    "browser.maximize_window()\n",
    "browser.get(\"https://demo.automationtesting.in/Datepicker.html\")\n",
    "browser.find_element(By.ID, \"datepicker2\").click()\n",
    "time.sleep(1)\n",
    "\n",
    "current_date = datetime.now()\n",
    "print(current_date)\n",
    "next_day = current_date + timedelta(days=1)\n",
    "print(next_date)\n",
    "\n",
    "Next_day = (str(next_day.day))\n",
    "print(Next_day)\n",
    "\n",
    "current_month = datetime.now().month\n",
    "current_year = current_date.year\n",
    "\n",
    "next_month = (current_month % 12) +1\n",
    "\n",
    "next_month_year = f\"{next_month}/{current_year}\"\n",
    "Month_Dropdown = browser.find_element(By.CSS_SELECTOR, \"select[title='Change the month']\")\n",
    "select = Select(Month_Dropdown)\n",
    "select.select_by_value(str(next_month_year))\n",
    "Year_Dropdown = browser.find_element(By.CSS_SELECTOR, \"select[title='Change the year']\")\n",
    "select = Select(Year_Dropdown)\n",
    "select.select_by_visible_text(\"2025\")\n",
    "browser.find_element(By.LINK_TEXT, Next_day).click()\n",
    "time.sleep(2)\n",
    "browser.close()"
   ]
  },
  {
   "cell_type": "markdown",
   "id": "a7ce4889-c4ed-4e88-a02e-b0cee00fa93e",
   "metadata": {},
   "source": [
    "## Handling Mouse Hover Dropdown"
   ]
  },
  {
   "cell_type": "code",
   "execution_count": 30,
   "id": "4cb37ea0-a1da-4cd5-941a-86277ffea755",
   "metadata": {},
   "outputs": [],
   "source": [
    "import time\n",
    "from selenium import webdriver\n",
    "from selenium.webdriver.common.by import By\n",
    "from selenium.webdriver.support.ui import Select\n",
    "from selenium.webdriver.common.action_chains import ActionChains\n",
    "\n",
    "\n",
    "browser = webdriver.Chrome()\n",
    "browser.maximize_window()\n",
    "browser.get(\"https://demo.automationtesting.in/Datepicker.html\")\n",
    "actions = ActionChains(browser) #now we able to interact with hover dropdown\n",
    "hover_element = browser.find_element(By.XPATH, \"//a[normalize-space()='SwitchTo']\")\n",
    "time.sleep(3)\n",
    "actions.move_to_element(hover_element).perform()\n",
    "browser.find_element(By.XPATH, \"//a[normalize-space()='Frames']\").click()\n",
    "time.sleep(3)\n",
    "\n",
    "\n",
    "\n",
    "browser.close()"
   ]
  },
  {
   "cell_type": "markdown",
   "id": "d5a15737-1605-4cce-9896-d6c1938632c9",
   "metadata": {},
   "source": [
    "## Handling Drag and Drop"
   ]
  },
  {
   "cell_type": "code",
   "execution_count": 31,
   "id": "7c28c263-ac54-4ea8-9ba2-a6b2a8423426",
   "metadata": {},
   "outputs": [],
   "source": [
    "import time\n",
    "from selenium import webdriver\n",
    "from selenium.webdriver.common.by import By\n",
    "from selenium.webdriver.support.ui import Select\n",
    "from selenium.webdriver.common.action_chains import ActionChains\n",
    "\n",
    "\n",
    "browser = webdriver.Chrome()\n",
    "browser.maximize_window()\n",
    "browser.get(\"https://the-internet.herokuapp.com/drag_and_drop\")\n",
    "\n",
    "source_element = browser.find_element(By.ID, \"column-a\")\n",
    "destination_element = browser.find_element(By.ID, \"column-b\")\n",
    "actions = ActionChains(browser)\n",
    "actions.drag_and_drop(source_element, destination_element).perform()\n",
    "time.sleep(3)\n",
    "\n",
    "browser.quit()"
   ]
  },
  {
   "cell_type": "markdown",
   "id": "f666bbb7-dcb2-48a0-829c-b3bb64abfaac",
   "metadata": {},
   "source": [
    "## Handling Slider"
   ]
  },
  {
   "cell_type": "code",
   "execution_count": 35,
   "id": "b4114741-1975-4ca0-97bc-6c9e3a3caab0",
   "metadata": {},
   "outputs": [],
   "source": [
    "import time\n",
    "from selenium import webdriver\n",
    "from selenium.webdriver.common.by import By\n",
    "from selenium.webdriver.support.ui import Select\n",
    "from selenium.webdriver.common.action_chains import ActionChains\n",
    "\n",
    "browser = webdriver.Chrome()\n",
    "browser.maximize_window()\n",
    "browser.get(\"https://the-internet.herokuapp.com/horizontal_slider\")\n",
    "\n",
    "slider = browser.find_element(By.XPATH, \"//input[@type='range']\")\n",
    "actions = ActionChains(browser)\n",
    "actions.click_and_hold(slider).move_by_offset(25,0).release().perform()  # 0 for y axis\n",
    "\n",
    "time.sleep(2)\n",
    "browser.quit()"
   ]
  }
 ],
 "metadata": {
  "kernelspec": {
   "display_name": "Python 3 (ipykernel)",
   "language": "python",
   "name": "python3"
  },
  "language_info": {
   "codemirror_mode": {
    "name": "ipython",
    "version": 3
   },
   "file_extension": ".py",
   "mimetype": "text/x-python",
   "name": "python",
   "nbconvert_exporter": "python",
   "pygments_lexer": "ipython3",
   "version": "3.12.0"
  }
 },
 "nbformat": 4,
 "nbformat_minor": 5
}
